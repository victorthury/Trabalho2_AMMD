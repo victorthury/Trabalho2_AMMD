{
 "cells": [
  {
   "cell_type": "markdown",
   "metadata": {},
   "source": [
    "# Poker Hand Data Set \n",
    "\n",
    "### Relevant Information:\n",
    "\n",
    "Each record is an example of a hand consisting of five playing\n",
    "cards drawn from a standard deck of 52. Each card is described\n",
    "using two attributes (suit and rank), for a total of 10 predictive\n",
    "attributes. There is one Class attribute that describes the\n",
    "�Poker Hand�. The order of cards is important, which is why there\n",
    "are 480 possible Royal Flush hands as compared to 4 (one for each\n",
    "suit � explained in more detail below).\n",
    "\n",
    "### Statistics:\n",
    "\n",
    "| | | | |\n",
    "| - | - | - | - |\n",
    "| Poker Hand       | # of hands\t| Probability\t| # of combinations\n",
    "| Royal Flush      | 4\t\t| 0.00000154\t| 480\n",
    "| Straight Flush   | 36\t\t| 0.00001385\t| 4320\n",
    "| Four of a kind   | 624\t\t| 0.0002401\t| 74880\n",
    "| Full house       | 3744\t\t| 0.00144058\t| 449280\n",
    "| Flush            | 5108\t\t| 0.0019654\t| 612960\n",
    "| Straight         | 10200\t\t| 0.00392464\t| 1224000\n",
    "| Three of a kind  | 54912\t\t| 0.02112845\t| 6589440\n",
    "| Two pairs        | 123552\t\t| 0.04753902\t| 14826240\n",
    "| One pair         | 1098240\t| 0.42256903\t| 31788800\n",
    "| Nothing          | 1302540\t| 0.50117739\t| 156304800\n",
    "| | | | |\n",
    "| Total            | 2598960\t| 1.0\t\t| 311875200"
   ]
  },
  {
   "cell_type": "markdown",
   "metadata": {},
   "source": [
    "# Preprocessing Data"
   ]
  },
  {
   "cell_type": "code",
   "execution_count": 1,
   "metadata": {},
   "outputs": [
    {
     "name": "stderr",
     "output_type": "stream",
     "text": [
      "/usr/lib/python3/dist-packages/h5py/__init__.py:36: FutureWarning: Conversion of the second argument of issubdtype from `float` to `np.floating` is deprecated. In future, it will be treated as `np.float64 == np.dtype(float).type`.\n",
      "  from ._conv import register_converters as _register_converters\n",
      "Using TensorFlow backend.\n"
     ]
    }
   ],
   "source": [
    "import numpy as np\n",
    "import pandas as pd\n",
    "\n",
    "import keras\n",
    "from keras.utils import to_categorical\n",
    "from keras.layers import Input, Flatten, Dense, LeakyReLU, Embedding, LSTM\n",
    "from keras.models import Model\n",
    "from keras.utils import plot_model\n",
    "import tensorflow as tf\n",
    "\n",
    "import seaborn as sns\n",
    "import matplotlib.pyplot as plt\n",
    "import matplotlib.image as mpimg\n",
    "\n",
    "for i in [0,9,13]:\n",
    "    si = plt.style.available[i]\n",
    "    plt.style.use(si)"
   ]
  },
  {
   "cell_type": "code",
   "execution_count": 2,
   "metadata": {},
   "outputs": [],
   "source": [
    "config = tf.ConfigProto()\n",
    "config.gpu_options.allow_growth = True\n",
    "session = tf.Session(config=config)"
   ]
  },
  {
   "cell_type": "code",
   "execution_count": 3,
   "metadata": {},
   "outputs": [],
   "source": [
    "path = '../data/Poker/poker-hand-training-true.data'\n",
    "df = pd.read_csv(path, names=['s1', 'c1', 's2', 'c2', 's3', 'c3', 's4', 'c4', 's5', 'c5', 'label'])"
   ]
  },
  {
   "cell_type": "code",
   "execution_count": 4,
   "metadata": {},
   "outputs": [
    {
     "data": {
      "text/html": [
       "<div>\n",
       "<style scoped>\n",
       "    .dataframe tbody tr th:only-of-type {\n",
       "        vertical-align: middle;\n",
       "    }\n",
       "\n",
       "    .dataframe tbody tr th {\n",
       "        vertical-align: top;\n",
       "    }\n",
       "\n",
       "    .dataframe thead th {\n",
       "        text-align: right;\n",
       "    }\n",
       "</style>\n",
       "<table border=\"1\" class=\"dataframe\">\n",
       "  <thead>\n",
       "    <tr style=\"text-align: right;\">\n",
       "      <th></th>\n",
       "      <th>s1</th>\n",
       "      <th>c1</th>\n",
       "      <th>s2</th>\n",
       "      <th>c2</th>\n",
       "      <th>s3</th>\n",
       "      <th>c3</th>\n",
       "      <th>s4</th>\n",
       "      <th>c4</th>\n",
       "      <th>s5</th>\n",
       "      <th>c5</th>\n",
       "      <th>label</th>\n",
       "    </tr>\n",
       "  </thead>\n",
       "  <tbody>\n",
       "    <tr>\n",
       "      <th>0</th>\n",
       "      <td>1</td>\n",
       "      <td>10</td>\n",
       "      <td>1</td>\n",
       "      <td>11</td>\n",
       "      <td>1</td>\n",
       "      <td>13</td>\n",
       "      <td>1</td>\n",
       "      <td>12</td>\n",
       "      <td>1</td>\n",
       "      <td>1</td>\n",
       "      <td>9</td>\n",
       "    </tr>\n",
       "    <tr>\n",
       "      <th>1</th>\n",
       "      <td>2</td>\n",
       "      <td>11</td>\n",
       "      <td>2</td>\n",
       "      <td>13</td>\n",
       "      <td>2</td>\n",
       "      <td>10</td>\n",
       "      <td>2</td>\n",
       "      <td>12</td>\n",
       "      <td>2</td>\n",
       "      <td>1</td>\n",
       "      <td>9</td>\n",
       "    </tr>\n",
       "    <tr>\n",
       "      <th>2</th>\n",
       "      <td>3</td>\n",
       "      <td>12</td>\n",
       "      <td>3</td>\n",
       "      <td>11</td>\n",
       "      <td>3</td>\n",
       "      <td>13</td>\n",
       "      <td>3</td>\n",
       "      <td>10</td>\n",
       "      <td>3</td>\n",
       "      <td>1</td>\n",
       "      <td>9</td>\n",
       "    </tr>\n",
       "    <tr>\n",
       "      <th>3</th>\n",
       "      <td>4</td>\n",
       "      <td>10</td>\n",
       "      <td>4</td>\n",
       "      <td>11</td>\n",
       "      <td>4</td>\n",
       "      <td>1</td>\n",
       "      <td>4</td>\n",
       "      <td>13</td>\n",
       "      <td>4</td>\n",
       "      <td>12</td>\n",
       "      <td>9</td>\n",
       "    </tr>\n",
       "    <tr>\n",
       "      <th>4</th>\n",
       "      <td>4</td>\n",
       "      <td>1</td>\n",
       "      <td>4</td>\n",
       "      <td>13</td>\n",
       "      <td>4</td>\n",
       "      <td>12</td>\n",
       "      <td>4</td>\n",
       "      <td>11</td>\n",
       "      <td>4</td>\n",
       "      <td>10</td>\n",
       "      <td>9</td>\n",
       "    </tr>\n",
       "  </tbody>\n",
       "</table>\n",
       "</div>"
      ],
      "text/plain": [
       "   s1  c1  s2  c2  s3  c3  s4  c4  s5  c5  label\n",
       "0   1  10   1  11   1  13   1  12   1   1      9\n",
       "1   2  11   2  13   2  10   2  12   2   1      9\n",
       "2   3  12   3  11   3  13   3  10   3   1      9\n",
       "3   4  10   4  11   4   1   4  13   4  12      9\n",
       "4   4   1   4  13   4  12   4  11   4  10      9"
      ]
     },
     "execution_count": 4,
     "metadata": {},
     "output_type": "execute_result"
    }
   ],
   "source": [
    "df.head()"
   ]
  },
  {
   "cell_type": "code",
   "execution_count": 5,
   "metadata": {},
   "outputs": [],
   "source": [
    "def categorazer(df):\n",
    "    data = to_categorical(df)\n",
    "    cat = []\n",
    "    for si in data:\n",
    "        sj = [list(si[2*j][:4])+list(si[2*j+1])  for j in range(5)]\n",
    "        cat.append(sj)\n",
    "    return np.array(cat)"
   ]
  },
  {
   "cell_type": "code",
   "execution_count": 6,
   "metadata": {},
   "outputs": [
    {
     "data": {
      "text/plain": [
       "(array([[0., 1., 0., 0., 0., 0., 0., 0., 0., 0., 0., 0., 0., 0., 1., 0.,\n",
       "         0., 0.],\n",
       "        [0., 1., 0., 0., 0., 0., 0., 0., 0., 0., 0., 0., 0., 0., 0., 1.,\n",
       "         0., 0.],\n",
       "        [0., 1., 0., 0., 0., 0., 0., 0., 0., 0., 0., 0., 0., 0., 0., 0.,\n",
       "         0., 1.],\n",
       "        [0., 1., 0., 0., 0., 0., 0., 0., 0., 0., 0., 0., 0., 0., 0., 0.,\n",
       "         1., 0.],\n",
       "        [0., 1., 0., 0., 0., 1., 0., 0., 0., 0., 0., 0., 0., 0., 0., 0.,\n",
       "         0., 0.]], dtype=float32),\n",
       " array([0., 0., 0., 0., 0., 0., 0., 0., 0., 1.], dtype=float32))"
      ]
     },
     "execution_count": 6,
     "metadata": {},
     "output_type": "execute_result"
    }
   ],
   "source": [
    "x_train = categorazer(df[df.columns[:-1]])\n",
    "y_train = to_categorical(df[df.columns[-1]])\n",
    "x_train[0], y_train[0]"
   ]
  },
  {
   "cell_type": "code",
   "execution_count": 7,
   "metadata": {},
   "outputs": [
    {
     "data": {
      "text/plain": [
       "(array([[0., 0., 0., 1., 0., 0., 0., 0., 0., 0., 0., 0., 0., 0., 0., 0.,\n",
       "         1., 0.],\n",
       "        [0., 0., 0., 1., 0., 0., 1., 0., 0., 0., 0., 0., 0., 0., 0., 0.,\n",
       "         0., 0.],\n",
       "        [0., 0., 0., 1., 0., 0., 0., 0., 0., 0., 0., 0., 0., 0., 0., 1.,\n",
       "         0., 0.],\n",
       "        [0., 0., 0., 0., 0., 0., 0., 0., 0., 1., 0., 0., 0., 0., 0., 0.,\n",
       "         0., 0.],\n",
       "        [0., 0., 1., 0., 0., 0., 0., 0., 0., 1., 0., 0., 0., 0., 0., 0.,\n",
       "         0., 0.]], dtype=float32),\n",
       " array([0., 1., 0., 0., 0., 0., 0., 0., 0., 0.], dtype=float32))"
      ]
     },
     "execution_count": 7,
     "metadata": {},
     "output_type": "execute_result"
    }
   ],
   "source": [
    "# encode test data\n",
    "df_test = pd.read_csv('../data/Poker/poker-hand-testing.data')\n",
    "x_test = categorazer(df_test[df_test.columns[:-1]])\n",
    "y_test = to_categorical(df_test[df_test.columns[-1]])\n",
    "x_test[0], y_test[0]"
   ]
  },
  {
   "cell_type": "markdown",
   "metadata": {},
   "source": [
    "# MLP Model"
   ]
  },
  {
   "cell_type": "code",
   "execution_count": 8,
   "metadata": {},
   "outputs": [
    {
     "data": {
      "text/plain": [
       "(5, 18)"
      ]
     },
     "execution_count": 8,
     "metadata": {},
     "output_type": "execute_result"
    }
   ],
   "source": [
    "n_cards, encodding_size = x_train.shape[1:]\n",
    "n_cards, encodding_size"
   ]
  },
  {
   "cell_type": "code",
   "execution_count": 9,
   "metadata": {},
   "outputs": [
    {
     "name": "stdout",
     "output_type": "stream",
     "text": [
      "WARNING:tensorflow:From /usr/lib/python3/dist-packages/tensorflow/python/framework/op_def_library.py:263: colocate_with (from tensorflow.python.framework.ops) is deprecated and will be removed in a future version.\n",
      "Instructions for updating:\n",
      "Colocations handled automatically by placer.\n"
     ]
    }
   ],
   "source": [
    "tf.reset_default_graph()\n",
    "inputs = Input(shape=(n_cards, encodding_size, ))\n",
    "# a layer instance is callable on a tensor, and returns a tensor\n",
    "x = Flatten()(inputs)\n",
    "x = Dense(32)(x)\n",
    "x = LeakyReLU()(x)\n",
    "x = Dense(32)(x)\n",
    "x = LeakyReLU()(x)\n",
    "x = Dense(16)(x)\n",
    "x = LeakyReLU()(x)\n",
    "x = Dense(16)(x)\n",
    "x = LeakyReLU()(x)\n",
    "predictions = Dense(10, activation='softmax')(x)\n",
    "model = Model(inputs=inputs, outputs=predictions)"
   ]
  },
  {
   "cell_type": "code",
   "execution_count": 10,
   "metadata": {},
   "outputs": [],
   "source": [
    "model.compile(optimizer='adam',\n",
    "              loss='categorical_crossentropy',\n",
    "              metrics=['accuracy'])"
   ]
  },
  {
   "cell_type": "code",
   "execution_count": 11,
   "metadata": {},
   "outputs": [
    {
     "name": "stdout",
     "output_type": "stream",
     "text": [
      "_________________________________________________________________\n",
      "Layer (type)                 Output Shape              Param #   \n",
      "=================================================================\n",
      "input_1 (InputLayer)         (None, 5, 18)             0         \n",
      "_________________________________________________________________\n",
      "flatten_1 (Flatten)          (None, 90)                0         \n",
      "_________________________________________________________________\n",
      "dense_1 (Dense)              (None, 32)                2912      \n",
      "_________________________________________________________________\n",
      "leaky_re_lu_1 (LeakyReLU)    (None, 32)                0         \n",
      "_________________________________________________________________\n",
      "dense_2 (Dense)              (None, 32)                1056      \n",
      "_________________________________________________________________\n",
      "leaky_re_lu_2 (LeakyReLU)    (None, 32)                0         \n",
      "_________________________________________________________________\n",
      "dense_3 (Dense)              (None, 16)                528       \n",
      "_________________________________________________________________\n",
      "leaky_re_lu_3 (LeakyReLU)    (None, 16)                0         \n",
      "_________________________________________________________________\n",
      "dense_4 (Dense)              (None, 16)                272       \n",
      "_________________________________________________________________\n",
      "leaky_re_lu_4 (LeakyReLU)    (None, 16)                0         \n",
      "_________________________________________________________________\n",
      "dense_5 (Dense)              (None, 10)                170       \n",
      "=================================================================\n",
      "Total params: 4,938\n",
      "Trainable params: 4,938\n",
      "Non-trainable params: 0\n",
      "_________________________________________________________________\n"
     ]
    }
   ],
   "source": [
    "model.summary()\n",
    "# plot_model(model, to_file='model.png')\n",
    "# plt.figure(figsize=(10,10))\n",
    "# img=mpimg.imread('model.png')\n",
    "# imgplot = plt.imshow(img)\n",
    "# plt.show()"
   ]
  },
  {
   "cell_type": "code",
   "execution_count": 12,
   "metadata": {
    "scrolled": false
   },
   "outputs": [
    {
     "name": "stdout",
     "output_type": "stream",
     "text": [
      "WARNING:tensorflow:From /usr/lib/python3/dist-packages/tensorflow/python/ops/math_ops.py:3066: to_int32 (from tensorflow.python.ops.math_ops) is deprecated and will be removed in a future version.\n",
      "Instructions for updating:\n",
      "Use tf.cast instead.\n",
      "Train on 25010 samples, validate on 999999 samples\n",
      "Epoch 1/25\n",
      "25010/25010 [==============================] - 16s 637us/step - loss: 1.0525 - acc: 0.4800 - val_loss: 0.9903 - val_acc: 0.4977\n",
      "Epoch 2/25\n",
      "25010/25010 [==============================] - 16s 621us/step - loss: 0.9872 - acc: 0.4937 - val_loss: 0.9851 - val_acc: 0.5025\n",
      "Epoch 3/25\n",
      "25010/25010 [==============================] - 16s 639us/step - loss: 0.9736 - acc: 0.5215 - val_loss: 0.9726 - val_acc: 0.5205\n",
      "Epoch 4/25\n",
      "25010/25010 [==============================] - 16s 620us/step - loss: 0.8994 - acc: 0.5963 - val_loss: 0.8436 - val_acc: 0.6324\n",
      "Epoch 5/25\n",
      "25010/25010 [==============================] - 15s 603us/step - loss: 0.7694 - acc: 0.6832 - val_loss: 0.7105 - val_acc: 0.7127\n",
      "Epoch 6/25\n",
      "25010/25010 [==============================] - 15s 590us/step - loss: 0.6305 - acc: 0.7557 - val_loss: 0.5791 - val_acc: 0.7778\n",
      "Epoch 7/25\n",
      "25010/25010 [==============================] - 15s 590us/step - loss: 0.4886 - acc: 0.8238 - val_loss: 0.4172 - val_acc: 0.8532\n",
      "Epoch 8/25\n",
      "25010/25010 [==============================] - 15s 594us/step - loss: 0.3357 - acc: 0.8883 - val_loss: 0.2798 - val_acc: 0.9082\n",
      "Epoch 9/25\n",
      "25010/25010 [==============================] - 15s 594us/step - loss: 0.2162 - acc: 0.9327 - val_loss: 0.1725 - val_acc: 0.9470\n",
      "Epoch 10/25\n",
      "25010/25010 [==============================] - 15s 590us/step - loss: 0.1295 - acc: 0.9647 - val_loss: 0.1184 - val_acc: 0.9669\n",
      "Epoch 11/25\n",
      "25010/25010 [==============================] - 15s 592us/step - loss: 0.1042 - acc: 0.9710 - val_loss: 0.1111 - val_acc: 0.9681\n",
      "Epoch 12/25\n",
      "25010/25010 [==============================] - 15s 591us/step - loss: 0.0899 - acc: 0.9756 - val_loss: 0.0927 - val_acc: 0.9745\n",
      "Epoch 13/25\n",
      "25010/25010 [==============================] - 15s 588us/step - loss: 0.0785 - acc: 0.9790 - val_loss: 0.0983 - val_acc: 0.9708\n",
      "Epoch 14/25\n",
      "25010/25010 [==============================] - 15s 587us/step - loss: 0.0796 - acc: 0.9774 - val_loss: 0.0817 - val_acc: 0.9762\n",
      "Epoch 15/25\n",
      "25010/25010 [==============================] - 15s 593us/step - loss: 0.0657 - acc: 0.9821 - val_loss: 0.0687 - val_acc: 0.9810\n",
      "Epoch 16/25\n",
      "25010/25010 [==============================] - 15s 592us/step - loss: 0.0637 - acc: 0.9814 - val_loss: 0.0755 - val_acc: 0.9793\n",
      "Epoch 17/25\n",
      "25010/25010 [==============================] - 15s 593us/step - loss: 0.0638 - acc: 0.9812 - val_loss: 0.1298 - val_acc: 0.9571\n",
      "Epoch 18/25\n",
      "25010/25010 [==============================] - 15s 592us/step - loss: 0.0536 - acc: 0.9854 - val_loss: 0.0663 - val_acc: 0.9808\n",
      "Epoch 19/25\n",
      "25010/25010 [==============================] - 15s 612us/step - loss: 0.0595 - acc: 0.9824 - val_loss: 0.0671 - val_acc: 0.9808\n",
      "Epoch 20/25\n",
      "25010/25010 [==============================] - 15s 590us/step - loss: 0.0543 - acc: 0.9848 - val_loss: 0.0755 - val_acc: 0.9780\n",
      "Epoch 21/25\n",
      "25010/25010 [==============================] - 15s 590us/step - loss: 0.0441 - acc: 0.9880 - val_loss: 0.0729 - val_acc: 0.9797\n",
      "Epoch 22/25\n",
      "25010/25010 [==============================] - 15s 589us/step - loss: 0.0505 - acc: 0.9854 - val_loss: 0.0654 - val_acc: 0.9812\n",
      "Epoch 23/25\n",
      "25010/25010 [==============================] - 15s 593us/step - loss: 0.0490 - acc: 0.9866 - val_loss: 0.0546 - val_acc: 0.9846\n",
      "Epoch 24/25\n",
      "25010/25010 [==============================] - 15s 593us/step - loss: 0.0439 - acc: 0.9887 - val_loss: 0.0744 - val_acc: 0.9785\n",
      "Epoch 25/25\n",
      "25010/25010 [==============================] - 15s 594us/step - loss: 0.0368 - acc: 0.9901 - val_loss: 0.0646 - val_acc: 0.9821\n"
     ]
    }
   ],
   "source": [
    "\n",
    "history = model.fit(x_train, y_train,\n",
    "                    validation_data=(x_test,y_test),\n",
    "                    epochs=25, \n",
    "                    batch_size=32,)  # starts training"
   ]
  },
  {
   "cell_type": "code",
   "execution_count": 18,
   "metadata": {},
   "outputs": [
    {
     "data": {
      "image/png": "[encoded data removed]",
      "text/plain": [
       "<Figure size 1080x360 with 2 Axes>"
      ]
     },
     "metadata": {},
     "output_type": "display_data"
    }
   ],
   "source": [
    "plt.figure(figsize=(15,5))\n",
    "\n",
    "\n",
    "# Plot training & validation accuracy values\n",
    "plt.subplot(1,2,1)\n",
    "plt.plot(history.history['acc'])\n",
    "plt.plot(history.history['val_acc'])\n",
    "plt.title('Model accuracy')\n",
    "plt.ylabel('Accuracy')\n",
    "plt.xlabel('Epoch')\n",
    "plt.legend(['Train', 'Test'], loc='upper left')\n",
    "\n",
    "\n",
    "# Plot training & validation loss values\n",
    "plt.subplot(1,2,2)\n",
    "plt.plot(history.history['loss'])\n",
    "plt.plot(history.history['val_loss'])\n",
    "plt.title('Model loss')\n",
    "plt.ylabel('Loss')\n",
    "plt.xlabel('Epoch')\n",
    "plt.legend(['Train', 'Test'], loc='upper left')\n",
    "\n",
    "plt.show()"
   ]
  },
  {
   "cell_type": "markdown",
   "metadata": {},
   "source": [
    "## Validation"
   ]
  },
  {
   "cell_type": "code",
   "execution_count": 14,
   "metadata": {},
   "outputs": [],
   "source": [
    "from sklearn.metrics import confusion_matrix"
   ]
  },
  {
   "cell_type": "code",
   "execution_count": 15,
   "metadata": {},
   "outputs": [
    {
     "data": {
      "text/plain": [
       "(array([[1.8686013e-07, 9.9999356e-01, 5.3778786e-06, ..., 1.8115231e-28,\n",
       "         6.0948497e-07, 2.3997730e-09],\n",
       "        [9.8811608e-07, 9.9999559e-01, 8.4582950e-07, ..., 4.2695599e-30,\n",
       "         2.2818438e-06, 8.3435573e-08],\n",
       "        [2.8815844e-08, 9.9999857e-01, 1.0944931e-06, ..., 2.6786883e-30,\n",
       "         3.8321483e-07, 3.7229051e-09],\n",
       "        ...,\n",
       "        [7.7283020e-13, 9.9983466e-01, 1.6535673e-04, ..., 4.2611027e-27,\n",
       "         2.2503344e-09, 3.8436958e-11],\n",
       "        [1.8459909e-08, 9.9999845e-01, 1.4773957e-06, ..., 3.7447857e-30,\n",
       "         6.5634445e-08, 2.7488165e-10],\n",
       "        [1.6932874e-19, 8.4244031e-03, 9.9137199e-01, ..., 1.0429214e-12,\n",
       "         9.7350022e-15, 9.1719752e-17]], dtype=float32),\n",
       " array([[0., 1., 0., ..., 0., 0., 0.],\n",
       "        [0., 1., 0., ..., 0., 0., 0.],\n",
       "        [0., 1., 0., ..., 0., 0., 0.],\n",
       "        ...,\n",
       "        [0., 1., 0., ..., 0., 0., 0.],\n",
       "        [0., 1., 0., ..., 0., 0., 0.],\n",
       "        [0., 0., 1., ..., 0., 0., 0.]], dtype=float32))"
      ]
     },
     "execution_count": 15,
     "metadata": {},
     "output_type": "execute_result"
    }
   ],
   "source": [
    "y_pred = model.predict(x_test)\n",
    "y_pred, y_test"
   ]
  },
  {
   "cell_type": "code",
   "execution_count": 16,
   "metadata": {},
   "outputs": [
    {
     "data": {
      "text/html": [
       "<div>\n",
       "<style scoped>\n",
       "    .dataframe tbody tr th:only-of-type {\n",
       "        vertical-align: middle;\n",
       "    }\n",
       "\n",
       "    .dataframe tbody tr th {\n",
       "        vertical-align: top;\n",
       "    }\n",
       "\n",
       "    .dataframe thead th {\n",
       "        text-align: right;\n",
       "    }\n",
       "</style>\n",
       "<table border=\"1\" class=\"dataframe\">\n",
       "  <thead>\n",
       "    <tr style=\"text-align: right;\">\n",
       "      <th></th>\n",
       "      <th>0</th>\n",
       "      <th>1</th>\n",
       "      <th>2</th>\n",
       "      <th>3</th>\n",
       "      <th>4</th>\n",
       "      <th>5</th>\n",
       "      <th>6</th>\n",
       "      <th>7</th>\n",
       "      <th>8</th>\n",
       "      <th>9</th>\n",
       "    </tr>\n",
       "  </thead>\n",
       "  <tbody>\n",
       "    <tr>\n",
       "      <th>0</th>\n",
       "      <td>497326</td>\n",
       "      <td>1768</td>\n",
       "      <td>0</td>\n",
       "      <td>0</td>\n",
       "      <td>2088</td>\n",
       "      <td>0</td>\n",
       "      <td>0</td>\n",
       "      <td>0</td>\n",
       "      <td>0</td>\n",
       "      <td>26</td>\n",
       "    </tr>\n",
       "    <tr>\n",
       "      <th>1</th>\n",
       "      <td>258</td>\n",
       "      <td>421144</td>\n",
       "      <td>1081</td>\n",
       "      <td>0</td>\n",
       "      <td>15</td>\n",
       "      <td>0</td>\n",
       "      <td>0</td>\n",
       "      <td>0</td>\n",
       "      <td>0</td>\n",
       "      <td>0</td>\n",
       "    </tr>\n",
       "    <tr>\n",
       "      <th>2</th>\n",
       "      <td>0</td>\n",
       "      <td>3868</td>\n",
       "      <td>41296</td>\n",
       "      <td>2458</td>\n",
       "      <td>0</td>\n",
       "      <td>0</td>\n",
       "      <td>0</td>\n",
       "      <td>0</td>\n",
       "      <td>0</td>\n",
       "      <td>0</td>\n",
       "    </tr>\n",
       "    <tr>\n",
       "      <th>3</th>\n",
       "      <td>0</td>\n",
       "      <td>0</td>\n",
       "      <td>1019</td>\n",
       "      <td>20027</td>\n",
       "      <td>0</td>\n",
       "      <td>0</td>\n",
       "      <td>75</td>\n",
       "      <td>0</td>\n",
       "      <td>0</td>\n",
       "      <td>0</td>\n",
       "    </tr>\n",
       "    <tr>\n",
       "      <th>4</th>\n",
       "      <td>1963</td>\n",
       "      <td>82</td>\n",
       "      <td>0</td>\n",
       "      <td>0</td>\n",
       "      <td>1781</td>\n",
       "      <td>0</td>\n",
       "      <td>0</td>\n",
       "      <td>0</td>\n",
       "      <td>0</td>\n",
       "      <td>59</td>\n",
       "    </tr>\n",
       "    <tr>\n",
       "      <th>5</th>\n",
       "      <td>1978</td>\n",
       "      <td>12</td>\n",
       "      <td>0</td>\n",
       "      <td>0</td>\n",
       "      <td>6</td>\n",
       "      <td>0</td>\n",
       "      <td>0</td>\n",
       "      <td>0</td>\n",
       "      <td>0</td>\n",
       "      <td>0</td>\n",
       "    </tr>\n",
       "    <tr>\n",
       "      <th>6</th>\n",
       "      <td>0</td>\n",
       "      <td>0</td>\n",
       "      <td>0</td>\n",
       "      <td>1016</td>\n",
       "      <td>0</td>\n",
       "      <td>0</td>\n",
       "      <td>342</td>\n",
       "      <td>66</td>\n",
       "      <td>0</td>\n",
       "      <td>0</td>\n",
       "    </tr>\n",
       "    <tr>\n",
       "      <th>7</th>\n",
       "      <td>0</td>\n",
       "      <td>0</td>\n",
       "      <td>0</td>\n",
       "      <td>7</td>\n",
       "      <td>0</td>\n",
       "      <td>0</td>\n",
       "      <td>75</td>\n",
       "      <td>148</td>\n",
       "      <td>0</td>\n",
       "      <td>0</td>\n",
       "    </tr>\n",
       "    <tr>\n",
       "      <th>8</th>\n",
       "      <td>6</td>\n",
       "      <td>0</td>\n",
       "      <td>0</td>\n",
       "      <td>0</td>\n",
       "      <td>6</td>\n",
       "      <td>0</td>\n",
       "      <td>0</td>\n",
       "      <td>0</td>\n",
       "      <td>0</td>\n",
       "      <td>0</td>\n",
       "    </tr>\n",
       "    <tr>\n",
       "      <th>9</th>\n",
       "      <td>0</td>\n",
       "      <td>0</td>\n",
       "      <td>0</td>\n",
       "      <td>0</td>\n",
       "      <td>2</td>\n",
       "      <td>0</td>\n",
       "      <td>0</td>\n",
       "      <td>0</td>\n",
       "      <td>0</td>\n",
       "      <td>1</td>\n",
       "    </tr>\n",
       "  </tbody>\n",
       "</table>\n",
       "</div>"
      ],
      "text/plain": [
       "        0       1      2      3     4  5    6    7  8   9\n",
       "0  497326    1768      0      0  2088  0    0    0  0  26\n",
       "1     258  421144   1081      0    15  0    0    0  0   0\n",
       "2       0    3868  41296   2458     0  0    0    0  0   0\n",
       "3       0       0   1019  20027     0  0   75    0  0   0\n",
       "4    1963      82      0      0  1781  0    0    0  0  59\n",
       "5    1978      12      0      0     6  0    0    0  0   0\n",
       "6       0       0      0   1016     0  0  342   66  0   0\n",
       "7       0       0      0      7     0  0   75  148  0   0\n",
       "8       6       0      0      0     6  0    0    0  0   0\n",
       "9       0       0      0      0     2  0    0    0  0   1"
      ]
     },
     "execution_count": 16,
     "metadata": {},
     "output_type": "execute_result"
    }
   ],
   "source": [
    "matrix = pd.DataFrame(confusion_matrix(y_test.argmax(axis=1), y_pred.argmax(axis=1)))\n",
    "matrix"
   ]
  },
  {
   "cell_type": "code",
   "execution_count": 17,
   "metadata": {},
   "outputs": [
    {
     "data": {
      "image/png": "[encoded data removed]",
      "text/plain": [
       "<Figure size 720x576 with 2 Axes>"
      ]
     },
     "metadata": {},
     "output_type": "display_data"
    }
   ],
   "source": [
    "plt.figure(figsize=(10,8))\n",
    "sns.heatmap(matrix,  annot=True)\n",
    "plt.ylabel('True')\n",
    "plt.xlabel('Pred');"
   ]
  },
  {
   "cell_type": "code",
   "execution_count": null,
   "metadata": {},
   "outputs": [],
   "source": []
  }
 ],
 "metadata": {
  "kernelspec": {
   "display_name": "Python 3",
   "language": "python",
   "name": "python3"
  },
  "language_info": {
   "codemirror_mode": {
    "name": "ipython",
    "version": 3
   },
   "file_extension": ".py",
   "mimetype": "text/x-python",
   "name": "python",
   "nbconvert_exporter": "python",
   "pygments_lexer": "ipython3",
   "version": "3.6.8"
  }
 },
 "nbformat": 4,
 "nbformat_minor": 2
}
