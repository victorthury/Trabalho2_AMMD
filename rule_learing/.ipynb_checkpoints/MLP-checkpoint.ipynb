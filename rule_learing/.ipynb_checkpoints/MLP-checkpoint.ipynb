{
 "cells": [
  {
   "cell_type": "markdown",
   "metadata": {},
   "source": [
    "# Poker Hand Data Set \n",
    "\n",
    "### Relevant Information:\n",
    "\n",
    "Each record is an example of a hand consisting of five playing\n",
    "cards drawn from a standard deck of 52. Each card is described\n",
    "using two attributes (suit and rank), for a total of 10 predictive\n",
    "attributes. There is one Class attribute that describes the\n",
    "�Poker Hand�. The order of cards is important, which is why there\n",
    "are 480 possible Royal Flush hands as compared to 4 (one for each\n",
    "suit � explained in more detail below).\n",
    "\n",
    "### Statistics:\n",
    "\n",
    "| | | | |\n",
    "| - | - | - | - |\n",
    "| Poker Hand       | # of hands\t| Probability\t| # of combinations\n",
    "| Royal Flush      | 4\t\t| 0.00000154\t| 480\n",
    "| Straight Flush   | 36\t\t| 0.00001385\t| 4320\n",
    "| Four of a kind   | 624\t\t| 0.0002401\t| 74880\n",
    "| Full house       | 3744\t\t| 0.00144058\t| 449280\n",
    "| Flush            | 5108\t\t| 0.0019654\t| 612960\n",
    "| Straight         | 10200\t\t| 0.00392464\t| 1224000\n",
    "| Three of a kind  | 54912\t\t| 0.02112845\t| 6589440\n",
    "| Two pairs        | 123552\t\t| 0.04753902\t| 14826240\n",
    "| One pair         | 1098240\t| 0.42256903\t| 31788800\n",
    "| Nothing          | 1302540\t| 0.50117739\t| 156304800\n",
    "| | | | |\n",
    "| Total            | 2598960\t| 1.0\t\t| 311875200"
   ]
  },
  {
   "cell_type": "markdown",
   "metadata": {},
   "source": [
    "# Preprocessing Data"
   ]
  },
  {
   "cell_type": "code",
   "execution_count": 1,
   "metadata": {},
   "outputs": [
    {
     "name": "stderr",
     "output_type": "stream",
     "text": [
      "/usr/lib/python3/dist-packages/h5py/__init__.py:36: FutureWarning: Conversion of the second argument of issubdtype from `float` to `np.floating` is deprecated. In future, it will be treated as `np.float64 == np.dtype(float).type`.\n",
      "  from ._conv import register_converters as _register_converters\n",
      "Using TensorFlow backend.\n"
     ]
    }
   ],
   "source": [
    "import numpy as np\n",
    "import pandas as pd\n",
    "\n",
    "import keras\n",
    "from keras.utils import to_categorical\n",
    "from keras.layers import Input, Flatten, Dense, LeakyReLU, Embedding, LSTM\n",
    "from keras.models import Model\n",
    "from keras.utils import plot_model\n",
    "\n",
    "import seaborn as sns\n",
    "import matplotlib.pyplot as plt\n",
    "import matplotlib.image as mpimg\n",
    "\n",
    "for i in [0,9,13]:\n",
    "    si = plt.style.available[i]\n",
    "    plt.style.use(si)"
   ]
  },
  {
   "cell_type": "code",
   "execution_count": 2,
   "metadata": {},
   "outputs": [],
   "source": [
    "path = '../data/Poker/poker-hand-training-true.data'\n",
    "df = pd.read_csv(path, names=['s1', 'c1', 's2', 'c2', 's3', 'c3', 's4', 'c4', 's5', 'c5', 'label'])"
   ]
  },
  {
   "cell_type": "code",
   "execution_count": 3,
   "metadata": {},
   "outputs": [
    {
     "data": {
      "text/html": [
       "<div>\n",
       "<style scoped>\n",
       "    .dataframe tbody tr th:only-of-type {\n",
       "        vertical-align: middle;\n",
       "    }\n",
       "\n",
       "    .dataframe tbody tr th {\n",
       "        vertical-align: top;\n",
       "    }\n",
       "\n",
       "    .dataframe thead th {\n",
       "        text-align: right;\n",
       "    }\n",
       "</style>\n",
       "<table border=\"1\" class=\"dataframe\">\n",
       "  <thead>\n",
       "    <tr style=\"text-align: right;\">\n",
       "      <th></th>\n",
       "      <th>s1</th>\n",
       "      <th>c1</th>\n",
       "      <th>s2</th>\n",
       "      <th>c2</th>\n",
       "      <th>s3</th>\n",
       "      <th>c3</th>\n",
       "      <th>s4</th>\n",
       "      <th>c4</th>\n",
       "      <th>s5</th>\n",
       "      <th>c5</th>\n",
       "      <th>label</th>\n",
       "    </tr>\n",
       "  </thead>\n",
       "  <tbody>\n",
       "    <tr>\n",
       "      <th>0</th>\n",
       "      <td>1</td>\n",
       "      <td>10</td>\n",
       "      <td>1</td>\n",
       "      <td>11</td>\n",
       "      <td>1</td>\n",
       "      <td>13</td>\n",
       "      <td>1</td>\n",
       "      <td>12</td>\n",
       "      <td>1</td>\n",
       "      <td>1</td>\n",
       "      <td>9</td>\n",
       "    </tr>\n",
       "    <tr>\n",
       "      <th>1</th>\n",
       "      <td>2</td>\n",
       "      <td>11</td>\n",
       "      <td>2</td>\n",
       "      <td>13</td>\n",
       "      <td>2</td>\n",
       "      <td>10</td>\n",
       "      <td>2</td>\n",
       "      <td>12</td>\n",
       "      <td>2</td>\n",
       "      <td>1</td>\n",
       "      <td>9</td>\n",
       "    </tr>\n",
       "    <tr>\n",
       "      <th>2</th>\n",
       "      <td>3</td>\n",
       "      <td>12</td>\n",
       "      <td>3</td>\n",
       "      <td>11</td>\n",
       "      <td>3</td>\n",
       "      <td>13</td>\n",
       "      <td>3</td>\n",
       "      <td>10</td>\n",
       "      <td>3</td>\n",
       "      <td>1</td>\n",
       "      <td>9</td>\n",
       "    </tr>\n",
       "    <tr>\n",
       "      <th>3</th>\n",
       "      <td>4</td>\n",
       "      <td>10</td>\n",
       "      <td>4</td>\n",
       "      <td>11</td>\n",
       "      <td>4</td>\n",
       "      <td>1</td>\n",
       "      <td>4</td>\n",
       "      <td>13</td>\n",
       "      <td>4</td>\n",
       "      <td>12</td>\n",
       "      <td>9</td>\n",
       "    </tr>\n",
       "    <tr>\n",
       "      <th>4</th>\n",
       "      <td>4</td>\n",
       "      <td>1</td>\n",
       "      <td>4</td>\n",
       "      <td>13</td>\n",
       "      <td>4</td>\n",
       "      <td>12</td>\n",
       "      <td>4</td>\n",
       "      <td>11</td>\n",
       "      <td>4</td>\n",
       "      <td>10</td>\n",
       "      <td>9</td>\n",
       "    </tr>\n",
       "  </tbody>\n",
       "</table>\n",
       "</div>"
      ],
      "text/plain": [
       "   s1  c1  s2  c2  s3  c3  s4  c4  s5  c5  label\n",
       "0   1  10   1  11   1  13   1  12   1   1      9\n",
       "1   2  11   2  13   2  10   2  12   2   1      9\n",
       "2   3  12   3  11   3  13   3  10   3   1      9\n",
       "3   4  10   4  11   4   1   4  13   4  12      9\n",
       "4   4   1   4  13   4  12   4  11   4  10      9"
      ]
     },
     "execution_count": 3,
     "metadata": {},
     "output_type": "execute_result"
    }
   ],
   "source": [
    "df.head()"
   ]
  },
  {
   "cell_type": "code",
   "execution_count": 4,
   "metadata": {},
   "outputs": [
    {
     "data": {
      "text/plain": [
       "(array([[0., 1., 0., 0., 0., 0., 0., 0., 0., 0., 0., 0., 0., 0.],\n",
       "        [0., 0., 0., 0., 0., 0., 0., 0., 0., 0., 1., 0., 0., 0.],\n",
       "        [0., 1., 0., 0., 0., 0., 0., 0., 0., 0., 0., 0., 0., 0.],\n",
       "        [0., 0., 0., 0., 0., 0., 0., 0., 0., 0., 0., 1., 0., 0.],\n",
       "        [0., 1., 0., 0., 0., 0., 0., 0., 0., 0., 0., 0., 0., 0.],\n",
       "        [0., 0., 0., 0., 0., 0., 0., 0., 0., 0., 0., 0., 0., 1.],\n",
       "        [0., 1., 0., 0., 0., 0., 0., 0., 0., 0., 0., 0., 0., 0.],\n",
       "        [0., 0., 0., 0., 0., 0., 0., 0., 0., 0., 0., 0., 1., 0.],\n",
       "        [0., 1., 0., 0., 0., 0., 0., 0., 0., 0., 0., 0., 0., 0.],\n",
       "        [0., 1., 0., 0., 0., 0., 0., 0., 0., 0., 0., 0., 0., 0.]],\n",
       "       dtype=float32),\n",
       " array([0., 0., 0., 0., 0., 0., 0., 0., 0., 1.], dtype=float32))"
      ]
     },
     "execution_count": 4,
     "metadata": {},
     "output_type": "execute_result"
    }
   ],
   "source": [
    "x_train = to_categorical(df[df.columns[:-1]])\n",
    "y_train = to_categorical(df[df.columns[-1]])\n",
    "x_train[0], y_train[0]"
   ]
  },
  {
   "cell_type": "code",
   "execution_count": 5,
   "metadata": {},
   "outputs": [],
   "source": [
    "df_test = pd.read_csv('../data/Poker/poker-hand-testing.data')"
   ]
  },
  {
   "cell_type": "code",
   "execution_count": 6,
   "metadata": {},
   "outputs": [],
   "source": [
    "x_test = to_categorical(df_test[df_test.columns[:-1]])\n",
    "y_test = to_categorical(df_test[df_test.columns[-1]])"
   ]
  },
  {
   "cell_type": "markdown",
   "metadata": {},
   "source": [
    "# MLP Model"
   ]
  },
  {
   "cell_type": "code",
   "execution_count": 7,
   "metadata": {},
   "outputs": [
    {
     "data": {
      "text/plain": [
       "(10, 14)"
      ]
     },
     "execution_count": 7,
     "metadata": {},
     "output_type": "execute_result"
    }
   ],
   "source": [
    "shape0, shape1 = x_train.shape[1:]\n",
    "shape0, shape1"
   ]
  },
  {
   "cell_type": "code",
   "execution_count": 8,
   "metadata": {},
   "outputs": [
    {
     "name": "stdout",
     "output_type": "stream",
     "text": [
      "WARNING:tensorflow:From /usr/lib/python3/dist-packages/tensorflow/python/framework/op_def_library.py:263: colocate_with (from tensorflow.python.framework.ops) is deprecated and will be removed in a future version.\n",
      "Instructions for updating:\n",
      "Colocations handled automatically by placer.\n"
     ]
    }
   ],
   "source": [
    "inputs = Input(shape=(shape0, shape1, ))\n",
    "# a layer instance is callable on a tensor, and returns a tensor\n",
    "x = Flatten()(inputs)\n",
    "x = Dense(64)(x)\n",
    "x = LeakyReLU()(x)\n",
    "x = Dense(64)(x)\n",
    "x = LeakyReLU()(x)\n",
    "x = Dense(32)(x)\n",
    "x = LeakyReLU()(x)\n",
    "predictions = Dense(10, activation='softmax')(x)\n",
    "model = Model(inputs=inputs, outputs=predictions)"
   ]
  },
  {
   "cell_type": "code",
   "execution_count": 9,
   "metadata": {},
   "outputs": [],
   "source": [
    "model.compile(optimizer='adam',\n",
    "              loss='categorical_crossentropy',\n",
    "              metrics=['accuracy'])"
   ]
  },
  {
   "cell_type": "code",
   "execution_count": 10,
   "metadata": {},
   "outputs": [
    {
     "name": "stdout",
     "output_type": "stream",
     "text": [
      "_________________________________________________________________\n",
      "Layer (type)                 Output Shape              Param #   \n",
      "=================================================================\n",
      "input_1 (InputLayer)         (None, 10, 14)            0         \n",
      "_________________________________________________________________\n",
      "flatten_1 (Flatten)          (None, 140)               0         \n",
      "_________________________________________________________________\n",
      "dense_1 (Dense)              (None, 64)                9024      \n",
      "_________________________________________________________________\n",
      "leaky_re_lu_1 (LeakyReLU)    (None, 64)                0         \n",
      "_________________________________________________________________\n",
      "dense_2 (Dense)              (None, 64)                4160      \n",
      "_________________________________________________________________\n",
      "leaky_re_lu_2 (LeakyReLU)    (None, 64)                0         \n",
      "_________________________________________________________________\n",
      "dense_3 (Dense)              (None, 32)                2080      \n",
      "_________________________________________________________________\n",
      "leaky_re_lu_3 (LeakyReLU)    (None, 32)                0         \n",
      "_________________________________________________________________\n",
      "dense_4 (Dense)              (None, 10)                330       \n",
      "=================================================================\n",
      "Total params: 15,594\n",
      "Trainable params: 15,594\n",
      "Non-trainable params: 0\n",
      "_________________________________________________________________\n"
     ]
    }
   ],
   "source": [
    "model.summary()\n",
    "# plot_model(model, to_file='model.png')\n",
    "# plt.figure(figsize=(10,10))\n",
    "# img=mpimg.imread('model.png')\n",
    "# imgplot = plt.imshow(img)\n",
    "# plt.show()"
   ]
  },
  {
   "cell_type": "code",
   "execution_count": 11,
   "metadata": {},
   "outputs": [
    {
     "name": "stdout",
     "output_type": "stream",
     "text": [
      "WARNING:tensorflow:From /usr/lib/python3/dist-packages/tensorflow/python/ops/math_ops.py:3066: to_int32 (from tensorflow.python.ops.math_ops) is deprecated and will be removed in a future version.\n",
      "Instructions for updating:\n",
      "Use tf.cast instead.\n",
      "Train on 25010 samples, validate on 999999 samples\n",
      "Epoch 1/25\n",
      "25010/25010 [==============================] - 8s 333us/step - loss: 1.0555 - acc: 0.4815 - val_loss: 0.9855 - val_acc: 0.4906\n",
      "Epoch 2/25\n",
      "25010/25010 [==============================] - 7s 294us/step - loss: 0.9875 - acc: 0.4942 - val_loss: 0.9890 - val_acc: 0.5012\n",
      "Epoch 3/25\n",
      "25010/25010 [==============================] - 8s 309us/step - loss: 0.9812 - acc: 0.5043 - val_loss: 0.9805 - val_acc: 0.5171\n",
      "Epoch 4/25\n",
      "25010/25010 [==============================] - 9s 350us/step - loss: 0.9481 - acc: 0.5503 - val_loss: 0.8982 - val_acc: 0.6013\n",
      "Epoch 5/25\n",
      "25010/25010 [==============================] - 8s 329us/step - loss: 0.8014 - acc: 0.6615 - val_loss: 0.7113 - val_acc: 0.7092\n",
      "Epoch 6/25\n",
      "25010/25010 [==============================] - 8s 329us/step - loss: 0.5222 - acc: 0.8052 - val_loss: 0.3640 - val_acc: 0.8795\n",
      "Epoch 7/25\n",
      "25010/25010 [==============================] - 8s 331us/step - loss: 0.2435 - acc: 0.9270 - val_loss: 0.1899 - val_acc: 0.9410\n",
      "Epoch 8/25\n",
      "25010/25010 [==============================] - 9s 344us/step - loss: 0.1407 - acc: 0.9645 - val_loss: 0.1380 - val_acc: 0.9599\n",
      "Epoch 9/25\n",
      "25010/25010 [==============================] - 8s 334us/step - loss: 0.1054 - acc: 0.9744 - val_loss: 0.1116 - val_acc: 0.9713\n",
      "Epoch 10/25\n",
      "25010/25010 [==============================] - 8s 313us/step - loss: 0.0906 - acc: 0.9774 - val_loss: 0.0885 - val_acc: 0.9772\n",
      "Epoch 11/25\n",
      "25010/25010 [==============================] - 8s 310us/step - loss: 0.0712 - acc: 0.9828 - val_loss: 0.0796 - val_acc: 0.9797\n",
      "Epoch 12/25\n",
      "25010/25010 [==============================] - 8s 312us/step - loss: 0.0618 - acc: 0.9848 - val_loss: 0.1009 - val_acc: 0.9698\n",
      "Epoch 13/25\n",
      "25010/25010 [==============================] - 8s 313us/step - loss: 0.0636 - acc: 0.9830 - val_loss: 0.0685 - val_acc: 0.9817\n",
      "Epoch 14/25\n",
      "25010/25010 [==============================] - 8s 312us/step - loss: 0.0504 - acc: 0.9862 - val_loss: 0.0717 - val_acc: 0.9798\n",
      "Epoch 15/25\n",
      "25010/25010 [==============================] - 8s 310us/step - loss: 0.0470 - acc: 0.9876 - val_loss: 0.0789 - val_acc: 0.9767\n",
      "Epoch 16/25\n",
      "25010/25010 [==============================] - 8s 307us/step - loss: 0.0397 - acc: 0.9900 - val_loss: 0.0631 - val_acc: 0.9827\n",
      "Epoch 17/25\n",
      "25010/25010 [==============================] - 8s 313us/step - loss: 0.0451 - acc: 0.9860 - val_loss: 0.0777 - val_acc: 0.9763\n",
      "Epoch 18/25\n",
      "25010/25010 [==============================] - 8s 328us/step - loss: 0.0367 - acc: 0.9900 - val_loss: 0.0548 - val_acc: 0.9852\n",
      "Epoch 19/25\n",
      "25010/25010 [==============================] - 8s 334us/step - loss: 0.0320 - acc: 0.9911 - val_loss: 0.0606 - val_acc: 0.9827\n",
      "Epoch 20/25\n",
      "25010/25010 [==============================] - 8s 326us/step - loss: 0.0332 - acc: 0.9901 - val_loss: 0.0759 - val_acc: 0.9767\n",
      "Epoch 21/25\n",
      "25010/25010 [==============================] - 8s 308us/step - loss: 0.0374 - acc: 0.9881 - val_loss: 0.0522 - val_acc: 0.9857\n",
      "Epoch 22/25\n",
      "25010/25010 [==============================] - 8s 312us/step - loss: 0.0314 - acc: 0.9898 - val_loss: 0.0576 - val_acc: 0.9836\n",
      "Epoch 23/25\n",
      "25010/25010 [==============================] - 8s 306us/step - loss: 0.0276 - acc: 0.9916 - val_loss: 0.0478 - val_acc: 0.9873\n",
      "Epoch 24/25\n",
      "25010/25010 [==============================] - 7s 298us/step - loss: 0.0202 - acc: 0.9939 - val_loss: 0.0620 - val_acc: 0.9820\n",
      "Epoch 25/25\n",
      "25010/25010 [==============================] - 8s 308us/step - loss: 0.0297 - acc: 0.9898 - val_loss: 0.0565 - val_acc: 0.9839\n"
     ]
    }
   ],
   "source": [
    "history = model.fit(x_train, y_train,\n",
    "                    validation_data=(x_test,y_test),\n",
    "                    epochs=25, \n",
    "                    batch_size=64,)  # starts training"
   ]
  },
  {
   "cell_type": "code",
   "execution_count": 12,
   "metadata": {},
   "outputs": [
    {
     "data": {
      "image/png": "[encoded data removed]",
      "text/plain": [
       "<Figure size 1080x360 with 2 Axes>"
      ]
     },
     "metadata": {},
     "output_type": "display_data"
    }
   ],
   "source": [
    "plt.figure(figsize=(15,5))\n",
    "\n",
    "\n",
    "# Plot training & validation accuracy values\n",
    "plt.subplot(1,2,1)\n",
    "plt.plot(history.history['acc'])\n",
    "plt.plot(history.history['val_acc'])\n",
    "plt.title('Model accuracy')\n",
    "plt.ylabel('Accuracy')\n",
    "plt.xlabel('Epoch')\n",
    "plt.legend(['Train', 'Test'], loc='upper left')\n",
    "\n",
    "\n",
    "# Plot training & validation loss values\n",
    "plt.subplot(1,2,2)\n",
    "plt.plot(history.history['loss'])\n",
    "plt.plot(history.history['val_loss'])\n",
    "plt.title('Model loss')\n",
    "plt.ylabel('Loss')\n",
    "plt.xlabel('Epoch')\n",
    "plt.legend(['Train', 'Test'], loc='upper left')\n",
    "\n",
    "plt.show()"
   ]
  },
  {
   "cell_type": "markdown",
   "metadata": {},
   "source": [
    "## Validation"
   ]
  },
  {
   "cell_type": "code",
   "execution_count": 13,
   "metadata": {},
   "outputs": [],
   "source": [
    "from sklearn.metrics import confusion_matrix"
   ]
  },
  {
   "cell_type": "code",
   "execution_count": 15,
   "metadata": {},
   "outputs": [
    {
     "data": {
      "text/plain": [
       "(array([[1.39435247e-06, 9.99965072e-01, 5.54927112e-07, ...,\n",
       "         1.91125165e-29, 1.21811945e-05, 7.35771948e-07],\n",
       "        [8.05796374e-10, 9.99996066e-01, 3.98769635e-06, ...,\n",
       "         1.45597547e-28, 3.89911936e-10, 1.18383853e-11],\n",
       "        [1.26601321e-06, 9.99994040e-01, 1.09251607e-06, ...,\n",
       "         7.29724624e-30, 5.95263501e-08, 3.02500325e-06],\n",
       "        ...,\n",
       "        [9.79116635e-07, 9.99998569e-01, 3.51474938e-07, ...,\n",
       "         6.72072288e-30, 2.85863635e-08, 1.33245086e-08],\n",
       "        [3.27520311e-01, 6.70039654e-01, 2.00767203e-09, ...,\n",
       "         1.03235940e-32, 3.64073319e-04, 1.27336525e-05],\n",
       "        [1.38175702e-32, 5.97670532e-06, 9.88462985e-01, ...,\n",
       "         1.26275184e-12, 1.91987540e-22, 8.54974366e-22]], dtype=float32),\n",
       " array([[0., 1., 0., ..., 0., 0., 0.],\n",
       "        [0., 1., 0., ..., 0., 0., 0.],\n",
       "        [0., 1., 0., ..., 0., 0., 0.],\n",
       "        ...,\n",
       "        [0., 1., 0., ..., 0., 0., 0.],\n",
       "        [0., 1., 0., ..., 0., 0., 0.],\n",
       "        [0., 0., 1., ..., 0., 0., 0.]], dtype=float32))"
      ]
     },
     "execution_count": 15,
     "metadata": {},
     "output_type": "execute_result"
    }
   ],
   "source": [
    "y_pred = model.predict(x_test)\n",
    "y_pred, y_test"
   ]
  },
  {
   "cell_type": "code",
   "execution_count": 16,
   "metadata": {},
   "outputs": [
    {
     "data": {
      "text/html": [
       "<div>\n",
       "<style scoped>\n",
       "    .dataframe tbody tr th:only-of-type {\n",
       "        vertical-align: middle;\n",
       "    }\n",
       "\n",
       "    .dataframe tbody tr th {\n",
       "        vertical-align: top;\n",
       "    }\n",
       "\n",
       "    .dataframe thead th {\n",
       "        text-align: right;\n",
       "    }\n",
       "</style>\n",
       "<table border=\"1\" class=\"dataframe\">\n",
       "  <thead>\n",
       "    <tr style=\"text-align: right;\">\n",
       "      <th></th>\n",
       "      <th>0</th>\n",
       "      <th>1</th>\n",
       "      <th>2</th>\n",
       "      <th>3</th>\n",
       "      <th>4</th>\n",
       "      <th>5</th>\n",
       "      <th>6</th>\n",
       "      <th>7</th>\n",
       "      <th>8</th>\n",
       "      <th>9</th>\n",
       "    </tr>\n",
       "  </thead>\n",
       "  <tbody>\n",
       "    <tr>\n",
       "      <th>0</th>\n",
       "      <td>499497</td>\n",
       "      <td>836</td>\n",
       "      <td>0</td>\n",
       "      <td>0</td>\n",
       "      <td>677</td>\n",
       "      <td>197</td>\n",
       "      <td>0</td>\n",
       "      <td>0</td>\n",
       "      <td>1</td>\n",
       "      <td>0</td>\n",
       "    </tr>\n",
       "    <tr>\n",
       "      <th>1</th>\n",
       "      <td>504</td>\n",
       "      <td>421566</td>\n",
       "      <td>405</td>\n",
       "      <td>0</td>\n",
       "      <td>20</td>\n",
       "      <td>1</td>\n",
       "      <td>0</td>\n",
       "      <td>0</td>\n",
       "      <td>0</td>\n",
       "      <td>2</td>\n",
       "    </tr>\n",
       "    <tr>\n",
       "      <th>2</th>\n",
       "      <td>0</td>\n",
       "      <td>4886</td>\n",
       "      <td>42601</td>\n",
       "      <td>135</td>\n",
       "      <td>0</td>\n",
       "      <td>0</td>\n",
       "      <td>0</td>\n",
       "      <td>0</td>\n",
       "      <td>0</td>\n",
       "      <td>0</td>\n",
       "    </tr>\n",
       "    <tr>\n",
       "      <th>3</th>\n",
       "      <td>0</td>\n",
       "      <td>0</td>\n",
       "      <td>2565</td>\n",
       "      <td>18377</td>\n",
       "      <td>0</td>\n",
       "      <td>0</td>\n",
       "      <td>177</td>\n",
       "      <td>2</td>\n",
       "      <td>0</td>\n",
       "      <td>0</td>\n",
       "    </tr>\n",
       "    <tr>\n",
       "      <th>4</th>\n",
       "      <td>2619</td>\n",
       "      <td>133</td>\n",
       "      <td>0</td>\n",
       "      <td>0</td>\n",
       "      <td>1117</td>\n",
       "      <td>6</td>\n",
       "      <td>0</td>\n",
       "      <td>0</td>\n",
       "      <td>3</td>\n",
       "      <td>7</td>\n",
       "    </tr>\n",
       "    <tr>\n",
       "      <th>5</th>\n",
       "      <td>1831</td>\n",
       "      <td>9</td>\n",
       "      <td>0</td>\n",
       "      <td>0</td>\n",
       "      <td>15</td>\n",
       "      <td>141</td>\n",
       "      <td>0</td>\n",
       "      <td>0</td>\n",
       "      <td>0</td>\n",
       "      <td>0</td>\n",
       "    </tr>\n",
       "    <tr>\n",
       "      <th>6</th>\n",
       "      <td>0</td>\n",
       "      <td>0</td>\n",
       "      <td>0</td>\n",
       "      <td>872</td>\n",
       "      <td>0</td>\n",
       "      <td>0</td>\n",
       "      <td>543</td>\n",
       "      <td>9</td>\n",
       "      <td>0</td>\n",
       "      <td>0</td>\n",
       "    </tr>\n",
       "    <tr>\n",
       "      <th>7</th>\n",
       "      <td>0</td>\n",
       "      <td>0</td>\n",
       "      <td>0</td>\n",
       "      <td>0</td>\n",
       "      <td>0</td>\n",
       "      <td>0</td>\n",
       "      <td>147</td>\n",
       "      <td>83</td>\n",
       "      <td>0</td>\n",
       "      <td>0</td>\n",
       "    </tr>\n",
       "    <tr>\n",
       "      <th>8</th>\n",
       "      <td>6</td>\n",
       "      <td>0</td>\n",
       "      <td>0</td>\n",
       "      <td>0</td>\n",
       "      <td>4</td>\n",
       "      <td>2</td>\n",
       "      <td>0</td>\n",
       "      <td>0</td>\n",
       "      <td>0</td>\n",
       "      <td>0</td>\n",
       "    </tr>\n",
       "    <tr>\n",
       "      <th>9</th>\n",
       "      <td>0</td>\n",
       "      <td>1</td>\n",
       "      <td>0</td>\n",
       "      <td>0</td>\n",
       "      <td>0</td>\n",
       "      <td>0</td>\n",
       "      <td>0</td>\n",
       "      <td>0</td>\n",
       "      <td>0</td>\n",
       "      <td>2</td>\n",
       "    </tr>\n",
       "  </tbody>\n",
       "</table>\n",
       "</div>"
      ],
      "text/plain": [
       "        0       1      2      3     4    5    6   7  8  9\n",
       "0  499497     836      0      0   677  197    0   0  1  0\n",
       "1     504  421566    405      0    20    1    0   0  0  2\n",
       "2       0    4886  42601    135     0    0    0   0  0  0\n",
       "3       0       0   2565  18377     0    0  177   2  0  0\n",
       "4    2619     133      0      0  1117    6    0   0  3  7\n",
       "5    1831       9      0      0    15  141    0   0  0  0\n",
       "6       0       0      0    872     0    0  543   9  0  0\n",
       "7       0       0      0      0     0    0  147  83  0  0\n",
       "8       6       0      0      0     4    2    0   0  0  0\n",
       "9       0       1      0      0     0    0    0   0  0  2"
      ]
     },
     "execution_count": 16,
     "metadata": {},
     "output_type": "execute_result"
    }
   ],
   "source": [
    "matrix = pd.DataFrame(confusion_matrix(y_test.argmax(axis=1), y_pred.argmax(axis=1)))\n",
    "matrix"
   ]
  },
  {
   "cell_type": "code",
   "execution_count": 19,
   "metadata": {},
   "outputs": [
    {
     "data": {
      "image/png": "[encoded data removed]",
      "text/plain": [
       "<Figure size 720x576 with 2 Axes>"
      ]
     },
     "metadata": {},
     "output_type": "display_data"
    }
   ],
   "source": [
    "plt.figure(figsize=(10,8))\n",
    "sns.heatmap(matrix,  annot=True);"
   ]
  },
  {
   "cell_type": "code",
   "execution_count": null,
   "metadata": {},
   "outputs": [],
   "source": []
  }
 ],
 "metadata": {
  "kernelspec": {
   "display_name": "Python 3",
   "language": "python",
   "name": "python3"
  },
  "language_info": {
   "codemirror_mode": {
    "name": "ipython",
    "version": 3
   },
   "file_extension": ".py",
   "mimetype": "text/x-python",
   "name": "python",
   "nbconvert_exporter": "python",
   "pygments_lexer": "ipython3",
   "version": "3.6.8"
  }
 },
 "nbformat": 4,
 "nbformat_minor": 2
}
